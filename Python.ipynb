{
 "cells": [
  {
   "cell_type": "markdown",
   "id": "b4ea1b96",
   "metadata": {},
   "source": [
    "## Python"
   ]
  },
  {
   "cell_type": "markdown",
   "id": "eed66e05",
   "metadata": {},
   "source": [
    "Задачи:\n",
    "\n",
    "1. Реализуйте функцию, которая будет автоматически подгружать информацию из дополнительного файла groups_add.csv (заголовки могут отличаться) и на основании дополнительных параметров пересчитывать метрики.\n",
    "\n",
    "2. Реализуйте функцию, которая будет строить графики по получаемым метрикам."
   ]
  },
  {
   "cell_type": "markdown",
   "id": "eb23721d",
   "metadata": {},
   "source": [
    "Импортируем необходимые библиотеки:"
   ]
  },
  {
   "cell_type": "code",
   "execution_count": 1,
   "id": "2a8b6721",
   "metadata": {},
   "outputs": [],
   "source": [
    "import pandas as pd\n",
    "import seaborn as sns\n",
    "import matplotlib.pyplot as plt\n",
    "from scipy.stats import norm\n",
    "import numpy as np\n",
    "from tqdm.auto import tqdm\n",
    "import requests\n",
    "from scipy import stats\n",
    "from urllib.parse import urlencode\n",
    "from tqdm.auto import tqdm\n",
    "\n",
    "%matplotlib inline "
   ]
  },
  {
   "cell_type": "markdown",
   "id": "b8ea22b4",
   "metadata": {},
   "source": [
    "1.2 Входные данные\n",
    "\n",
    "В качестве входных данных  имеется 4 csv-файла:\n",
    "\n",
    "Считаем файлы и запишем их в переменные."
   ]
  },
  {
   "cell_type": "code",
   "execution_count": 2,
   "id": "0ff9eda4",
   "metadata": {},
   "outputs": [],
   "source": [
    "def yandex_data(public_key):\n",
    "    base_url = 'https://cloud-api.yandex.net/v1/disk/public/resources/download?'\n",
    "    final_url = base_url + urlencode(dict(public_key=public_key))\n",
    "    response = requests.get(final_url) \n",
    "    download_url = response.json()['href'] \n",
    "    return download_url"
   ]
  },
  {
   "cell_type": "code",
   "execution_count": 3,
   "id": "817a5587",
   "metadata": {},
   "outputs": [],
   "source": [
    "groups       =  pd.read_csv(yandex_data('https://disk.yandex.ru/d/UhyYx41rTt3clQ'), sep=';')\n",
    "checks       =  pd.read_csv(yandex_data('https://disk.yandex.ru/d/pH1q-VqcxXjsVA'), sep=';') \n",
    "active_studs =  pd.read_csv(yandex_data('https://disk.yandex.ru/d/Tbs44Bm6H_FwFQ'), sep=';')\n",
    "group_add    =  pd.read_csv(yandex_data('https://disk.yandex.ru/d/5Kxrz02m3IBUwQ'), sep=',')"
   ]
  },
  {
   "cell_type": "markdown",
   "id": "2964c4ab",
   "metadata": {},
   "source": [
    "Анализ считываемых файлов проведен в проекте \"А/B test\". Для создания функции повторим шаги из проекта \"А/B test\" по объединению датафреймов."
   ]
  },
  {
   "cell_type": "markdown",
   "id": "30e69a2b",
   "metadata": {},
   "source": [
    "В датафреймах \"checks\" и \"active_studs\" переименуем столбец \"student_id\" в \"id\""
   ]
  },
  {
   "cell_type": "code",
   "execution_count": 4,
   "id": "fcc9a379",
   "metadata": {},
   "outputs": [],
   "source": [
    "checks.rename(columns={'student_id': 'id'}, inplace=True)\n",
    "active_studs.rename(columns={'student_id': 'id'}, inplace=True)"
   ]
  },
  {
   "cell_type": "markdown",
   "id": "a4f5fbe3",
   "metadata": {},
   "source": [
    "Проверяем:\n",
    "\n",
    "количество повторяющихся значений в \"checks\" в колонке \"id\", по которой будет производиться объединение;\n",
    "\n",
    "количество повторяющихся значений в \"active_studs\" в колонке \"id\", по которой будет производиться объединение;\n",
    "\n",
    "количество пропущенных значений."
   ]
  },
  {
   "cell_type": "code",
   "execution_count": 5,
   "id": "62833ceb",
   "metadata": {},
   "outputs": [
    {
     "data": {
      "text/plain": [
       "(0, 2)"
      ]
     },
     "execution_count": 5,
     "metadata": {},
     "output_type": "execute_result"
    }
   ],
   "source": [
    "duplicate_checks = checks[checks.duplicated(['id'])]\n",
    "duplicate_checks.shape"
   ]
  },
  {
   "cell_type": "code",
   "execution_count": 6,
   "id": "9a9f8ed7",
   "metadata": {},
   "outputs": [
    {
     "data": {
      "text/plain": [
       "(0, 1)"
      ]
     },
     "execution_count": 6,
     "metadata": {},
     "output_type": "execute_result"
    }
   ],
   "source": [
    "duplicate_active_studs = active_studs[active_studs.duplicated(['id'])]\n",
    "duplicate_active_studs.shape"
   ]
  },
  {
   "cell_type": "code",
   "execution_count": 7,
   "id": "31a7cef2",
   "metadata": {},
   "outputs": [
    {
     "data": {
      "text/plain": [
       "id     0\n",
       "rev    0\n",
       "dtype: int64"
      ]
     },
     "execution_count": 7,
     "metadata": {},
     "output_type": "execute_result"
    }
   ],
   "source": [
    "checks.isna().sum()"
   ]
  },
  {
   "cell_type": "code",
   "execution_count": 8,
   "id": "7c59aa76",
   "metadata": {},
   "outputs": [
    {
     "data": {
      "text/plain": [
       "id    0\n",
       "dtype: int64"
      ]
     },
     "execution_count": 8,
     "metadata": {},
     "output_type": "execute_result"
    }
   ],
   "source": [
    "active_studs.isna().sum()"
   ]
  },
  {
   "cell_type": "markdown",
   "id": "78d0b056",
   "metadata": {},
   "source": [
    "Добавляем дополнительные колонки:"
   ]
  },
  {
   "cell_type": "code",
   "execution_count": 9,
   "id": "6d9a42e6",
   "metadata": {},
   "outputs": [],
   "source": [
    "group_add['added_later'] = True\n",
    "active_studs['active_studs'] = True"
   ]
  },
  {
   "cell_type": "markdown",
   "id": "fada0700",
   "metadata": {},
   "source": [
    "Объединим датафреймы. Поскольку датафрейм \"groups_add\" был передан спустя два дня после получения основных данных, а о происхождении добавленных пользователей ничего неизвестно, и о периоде проведения эксперимента тоже то будем считать, что эти данные собирались из разных источников, но в рамках проведения эксперимента. Поэтому включаем пользователей из датафрейма \"groups_add\" в АБ-тест."
   ]
  },
  {
   "cell_type": "code",
   "execution_count": 10,
   "id": "aba814d2",
   "metadata": {},
   "outputs": [],
   "source": [
    "df_all = groups.merge(group_add, how='outer', on=['id', 'grp'])\n",
    "df_all = df_all.merge(active_studs, how='outer', on=['id'])\n",
    "df_all = df_all.merge(checks, how='outer', on=['id'])"
   ]
  },
  {
   "cell_type": "markdown",
   "id": "ebef99ad",
   "metadata": {},
   "source": [
    "Заполняем NaN значения значениями по умолчанию:"
   ]
  },
  {
   "cell_type": "code",
   "execution_count": 11,
   "id": "938d458d",
   "metadata": {},
   "outputs": [],
   "source": [
    "df_all['added_later'] = df_all.added_later.fillna(False)\n",
    "df_all['active_studs'] = df_all.active_studs.fillna(False)\n",
    "df_all['grp'] = df_all.grp.astype('string')"
   ]
  },
  {
   "cell_type": "markdown",
   "id": "e06c22d1",
   "metadata": {},
   "source": [
    "Посмотрим на полученный датафрейм:"
   ]
  },
  {
   "cell_type": "code",
   "execution_count": 12,
   "id": "0745bfc8",
   "metadata": {},
   "outputs": [
    {
     "data": {
      "text/html": [
       "<div>\n",
       "<style scoped>\n",
       "    .dataframe tbody tr th:only-of-type {\n",
       "        vertical-align: middle;\n",
       "    }\n",
       "\n",
       "    .dataframe tbody tr th {\n",
       "        vertical-align: top;\n",
       "    }\n",
       "\n",
       "    .dataframe thead th {\n",
       "        text-align: right;\n",
       "    }\n",
       "</style>\n",
       "<table border=\"1\" class=\"dataframe\">\n",
       "  <thead>\n",
       "    <tr style=\"text-align: right;\">\n",
       "      <th></th>\n",
       "      <th>id</th>\n",
       "      <th>grp</th>\n",
       "      <th>added_later</th>\n",
       "      <th>active_studs</th>\n",
       "      <th>rev</th>\n",
       "    </tr>\n",
       "  </thead>\n",
       "  <tbody>\n",
       "    <tr>\n",
       "      <th>0</th>\n",
       "      <td>1489</td>\n",
       "      <td>B</td>\n",
       "      <td>False</td>\n",
       "      <td>False</td>\n",
       "      <td>NaN</td>\n",
       "    </tr>\n",
       "    <tr>\n",
       "      <th>1</th>\n",
       "      <td>1627</td>\n",
       "      <td>A</td>\n",
       "      <td>False</td>\n",
       "      <td>True</td>\n",
       "      <td>990.0</td>\n",
       "    </tr>\n",
       "    <tr>\n",
       "      <th>2</th>\n",
       "      <td>1768</td>\n",
       "      <td>B</td>\n",
       "      <td>False</td>\n",
       "      <td>False</td>\n",
       "      <td>NaN</td>\n",
       "    </tr>\n",
       "    <tr>\n",
       "      <th>3</th>\n",
       "      <td>1783</td>\n",
       "      <td>B</td>\n",
       "      <td>False</td>\n",
       "      <td>False</td>\n",
       "      <td>NaN</td>\n",
       "    </tr>\n",
       "    <tr>\n",
       "      <th>4</th>\n",
       "      <td>1794</td>\n",
       "      <td>A</td>\n",
       "      <td>False</td>\n",
       "      <td>False</td>\n",
       "      <td>NaN</td>\n",
       "    </tr>\n",
       "  </tbody>\n",
       "</table>\n",
       "</div>"
      ],
      "text/plain": [
       "     id grp  added_later  active_studs    rev\n",
       "0  1489   B        False         False    NaN\n",
       "1  1627   A        False          True  990.0\n",
       "2  1768   B        False         False    NaN\n",
       "3  1783   B        False         False    NaN\n",
       "4  1794   A        False         False    NaN"
      ]
     },
     "execution_count": 12,
     "metadata": {},
     "output_type": "execute_result"
    }
   ],
   "source": [
    "df_all.head()"
   ]
  },
  {
   "cell_type": "markdown",
   "id": "219fd59d",
   "metadata": {},
   "source": [
    "Реализуем функцию,которая будет автоматически подгружать информацию из дополнительного файла groups_add.csv (заголовки могут отличаться) и на основании дополнительных параметров пересчитывать метрики."
   ]
  },
  {
   "cell_type": "code",
   "execution_count": 13,
   "id": "bfd34e27",
   "metadata": {},
   "outputs": [],
   "source": [
    "def metrics (add = None, #ДатаФрейм\n",
    "                keys=['id', 'grp'], # Ключи, по которым нужно объединить ДатаФрейм с основной таблицей\n",
    "                rename_columns = {'student_id':'id'} # Переименовывем столбцы для корректного объединения\n",
    "               ):\n",
    "    import pandas as pd\n",
    "    def yandex_data(public_key): # Функция, которая считывает csv-файлы с Яндекс-диска с помощью API\n",
    "        base_url = 'https://cloud-api.yandex.net/v1/disk/public/resources/download?'\n",
    "        final_url = base_url + urlencode(dict(public_key=public_key))\n",
    "        response = requests.get(final_url) \n",
    "        download_url = response.json()['href'] \n",
    "        return download_url\n",
    "    groups       = pd.read_csv(yandex_data('https://disk.yandex.ru/d/UhyYx41rTt3clQ'), sep=';', dtype={'id' : 'int64', 'grp' : 'string'})\n",
    "    active_studs = pd.read_csv(yandex_data('https://disk.yandex.ru/d/Tbs44Bm6H_FwFQ'), sep=';', dtype={'student_id' : 'int64'})\n",
    "    checks       = pd.read_csv(yandex_data('https://disk.yandex.ru/d/pH1q-VqcxXjsVA'), sep=';', dtype={'student_id' : 'int64', 'rev' : 'float64'})\n",
    "\n",
    "    # Переименовываем колонки для объединенения по ключам\n",
    "    active_studs.rename(columns={'student_id': 'id'}, inplace=True)\n",
    "    checks.rename(columns={'student_id': 'id'}, inplace=True) \n",
    "\n",
    "    # Добавляем дополнительную колонку\n",
    "    active_studs['active_studs'] = True\n",
    "\n",
    "    # Объединяем таблицы в одну общую\n",
    "    df_final = groups.merge(active_studs, how='outer', on=['id'])\n",
    "    df_final = df_final.merge(checks, how='outer', on=['id'])\n",
    "    \n",
    "    # Добавляем условие, если в параметр add была передана таблица\n",
    "    if add is not None:\n",
    "        add = add.rename(columns=rename_columns)\n",
    "        df_final ['added_later'] = True # Добавляем дополнительную колонку\n",
    "        df_final = df_all.merge(add, how='outer') # Писоединяем таблицу к общей\n",
    "        df_final['added_later'] = df_final.added_later.fillna(False) # Заполняем NaN значения значениями по умолчанию\n",
    "    \n",
    "    # Заполняем NaN значения значениями по умолчанию\n",
    "    df_final['active_studs'] = df_all.active_studs.fillna(False)\n",
    "\n",
    "    # Присваиваем столбцу grp тип string\n",
    "    df_all ['grp'] = df_all.grp.astype('string')\n",
    "    \n",
    "    # отфильтровываем только активных пользователей и оплативших\n",
    "    # !!!раскомментировать при необходимости\n",
    "    # df_final = df_final.query('active_studs == True or rev.notna()')\n",
    "    \n",
    "    # Расчитываем метрики\n",
    "    result_df = pd.DataFrame()\n",
    "    result_df['CR_to_clients'] = df_final.groupby('grp').rev.count() / df_final.groupby('grp').id.count()\n",
    "    result_df['mean_revenue'] = df_final.groupby('grp').rev.mean()\n",
    "    result_df['repeat_purchases'] = df_final.groupby('grp').rev.count() / df_final.query('rev.notna()').groupby('grp').rev.count()\n",
    "    result_df['arppu'] = result_df['repeat_purchases'] * df_final.groupby('grp').rev.mean()\n",
    "    result_df['arpu'] = result_df['CR_to_clients']*result_df['arppu']\n",
    "    result_df = result_df.reset_index().rename(columns={'index' : 'grp'})\n",
    "    \n",
    "    return {\"metrics\" : result_df, \n",
    "            \"data_frame\" : df_final}"
   ]
  },
  {
   "cell_type": "markdown",
   "id": "f024d8ae",
   "metadata": {},
   "source": [
    "Проверим функцию без group_add:"
   ]
  },
  {
   "cell_type": "code",
   "execution_count": 14,
   "id": "007bf9cf",
   "metadata": {},
   "outputs": [],
   "source": [
    "a = metrics()"
   ]
  },
  {
   "cell_type": "code",
   "execution_count": 15,
   "id": "8d17ced1",
   "metadata": {},
   "outputs": [
    {
     "data": {
      "text/html": [
       "<div>\n",
       "<style scoped>\n",
       "    .dataframe tbody tr th:only-of-type {\n",
       "        vertical-align: middle;\n",
       "    }\n",
       "\n",
       "    .dataframe tbody tr th {\n",
       "        vertical-align: top;\n",
       "    }\n",
       "\n",
       "    .dataframe thead th {\n",
       "        text-align: right;\n",
       "    }\n",
       "</style>\n",
       "<table border=\"1\" class=\"dataframe\">\n",
       "  <thead>\n",
       "    <tr style=\"text-align: right;\">\n",
       "      <th></th>\n",
       "      <th>grp</th>\n",
       "      <th>CR_to_clients</th>\n",
       "      <th>mean_revenue</th>\n",
       "      <th>repeat_purchases</th>\n",
       "      <th>arppu</th>\n",
       "      <th>arpu</th>\n",
       "    </tr>\n",
       "  </thead>\n",
       "  <tbody>\n",
       "    <tr>\n",
       "      <th>0</th>\n",
       "      <td>A</td>\n",
       "      <td>0.007293</td>\n",
       "      <td>860.710280</td>\n",
       "      <td>1.0</td>\n",
       "      <td>860.710280</td>\n",
       "      <td>6.277418</td>\n",
       "    </tr>\n",
       "    <tr>\n",
       "      <th>1</th>\n",
       "      <td>B</td>\n",
       "      <td>0.007239</td>\n",
       "      <td>1106.997699</td>\n",
       "      <td>1.0</td>\n",
       "      <td>1106.997699</td>\n",
       "      <td>8.013810</td>\n",
       "    </tr>\n",
       "  </tbody>\n",
       "</table>\n",
       "</div>"
      ],
      "text/plain": [
       "  grp  CR_to_clients  mean_revenue  repeat_purchases        arppu      arpu\n",
       "0   A       0.007293    860.710280               1.0   860.710280  6.277418\n",
       "1   B       0.007239   1106.997699               1.0  1106.997699  8.013810"
      ]
     },
     "execution_count": 15,
     "metadata": {},
     "output_type": "execute_result"
    }
   ],
   "source": [
    "a['metrics']"
   ]
  },
  {
   "cell_type": "code",
   "execution_count": 16,
   "id": "5107d6fa",
   "metadata": {},
   "outputs": [
    {
     "data": {
      "text/html": [
       "<div>\n",
       "<style scoped>\n",
       "    .dataframe tbody tr th:only-of-type {\n",
       "        vertical-align: middle;\n",
       "    }\n",
       "\n",
       "    .dataframe tbody tr th {\n",
       "        vertical-align: top;\n",
       "    }\n",
       "\n",
       "    .dataframe thead th {\n",
       "        text-align: right;\n",
       "    }\n",
       "</style>\n",
       "<table border=\"1\" class=\"dataframe\">\n",
       "  <thead>\n",
       "    <tr style=\"text-align: right;\">\n",
       "      <th></th>\n",
       "      <th>id</th>\n",
       "      <th>grp</th>\n",
       "      <th>active_studs</th>\n",
       "      <th>rev</th>\n",
       "    </tr>\n",
       "  </thead>\n",
       "  <tbody>\n",
       "    <tr>\n",
       "      <th>0</th>\n",
       "      <td>1489</td>\n",
       "      <td>B</td>\n",
       "      <td>False</td>\n",
       "      <td>NaN</td>\n",
       "    </tr>\n",
       "    <tr>\n",
       "      <th>1</th>\n",
       "      <td>1627</td>\n",
       "      <td>A</td>\n",
       "      <td>True</td>\n",
       "      <td>990.0</td>\n",
       "    </tr>\n",
       "    <tr>\n",
       "      <th>2</th>\n",
       "      <td>1768</td>\n",
       "      <td>B</td>\n",
       "      <td>False</td>\n",
       "      <td>NaN</td>\n",
       "    </tr>\n",
       "    <tr>\n",
       "      <th>3</th>\n",
       "      <td>1783</td>\n",
       "      <td>B</td>\n",
       "      <td>False</td>\n",
       "      <td>NaN</td>\n",
       "    </tr>\n",
       "    <tr>\n",
       "      <th>4</th>\n",
       "      <td>1794</td>\n",
       "      <td>A</td>\n",
       "      <td>False</td>\n",
       "      <td>NaN</td>\n",
       "    </tr>\n",
       "    <tr>\n",
       "      <th>...</th>\n",
       "      <td>...</td>\n",
       "      <td>...</td>\n",
       "      <td>...</td>\n",
       "      <td>...</td>\n",
       "    </tr>\n",
       "    <tr>\n",
       "      <th>74492</th>\n",
       "      <td>5740903</td>\n",
       "      <td>&lt;NA&gt;</td>\n",
       "      <td>False</td>\n",
       "      <td>1900.0</td>\n",
       "    </tr>\n",
       "    <tr>\n",
       "      <th>74493</th>\n",
       "      <td>5760471</td>\n",
       "      <td>&lt;NA&gt;</td>\n",
       "      <td>False</td>\n",
       "      <td>NaN</td>\n",
       "    </tr>\n",
       "    <tr>\n",
       "      <th>74494</th>\n",
       "      <td>5728431</td>\n",
       "      <td>&lt;NA&gt;</td>\n",
       "      <td>False</td>\n",
       "      <td>NaN</td>\n",
       "    </tr>\n",
       "    <tr>\n",
       "      <th>74495</th>\n",
       "      <td>5723648</td>\n",
       "      <td>&lt;NA&gt;</td>\n",
       "      <td>False</td>\n",
       "      <td>NaN</td>\n",
       "    </tr>\n",
       "    <tr>\n",
       "      <th>74496</th>\n",
       "      <td>5870856</td>\n",
       "      <td>&lt;NA&gt;</td>\n",
       "      <td>False</td>\n",
       "      <td>NaN</td>\n",
       "    </tr>\n",
       "  </tbody>\n",
       "</table>\n",
       "<p>74497 rows × 4 columns</p>\n",
       "</div>"
      ],
      "text/plain": [
       "            id   grp  active_studs     rev\n",
       "0         1489     B         False     NaN\n",
       "1         1627     A          True   990.0\n",
       "2         1768     B         False     NaN\n",
       "3         1783     B         False     NaN\n",
       "4         1794     A         False     NaN\n",
       "...        ...   ...           ...     ...\n",
       "74492  5740903  <NA>         False  1900.0\n",
       "74493  5760471  <NA>         False     NaN\n",
       "74494  5728431  <NA>         False     NaN\n",
       "74495  5723648  <NA>         False     NaN\n",
       "74496  5870856  <NA>         False     NaN\n",
       "\n",
       "[74497 rows x 4 columns]"
      ]
     },
     "execution_count": 16,
     "metadata": {},
     "output_type": "execute_result"
    }
   ],
   "source": [
    "a['data_frame']"
   ]
  },
  {
   "cell_type": "markdown",
   "id": "15cc2692",
   "metadata": {},
   "source": [
    "Проверим функцию с group_add:"
   ]
  },
  {
   "cell_type": "code",
   "execution_count": 17,
   "id": "f5da787e",
   "metadata": {},
   "outputs": [],
   "source": [
    "b = metrics(group_add, keys=['id', 'grp'])"
   ]
  },
  {
   "cell_type": "code",
   "execution_count": 18,
   "id": "6a988eda",
   "metadata": {},
   "outputs": [
    {
     "data": {
      "text/html": [
       "<div>\n",
       "<style scoped>\n",
       "    .dataframe tbody tr th:only-of-type {\n",
       "        vertical-align: middle;\n",
       "    }\n",
       "\n",
       "    .dataframe tbody tr th {\n",
       "        vertical-align: top;\n",
       "    }\n",
       "\n",
       "    .dataframe thead th {\n",
       "        text-align: right;\n",
       "    }\n",
       "</style>\n",
       "<table border=\"1\" class=\"dataframe\">\n",
       "  <thead>\n",
       "    <tr style=\"text-align: right;\">\n",
       "      <th></th>\n",
       "      <th>grp</th>\n",
       "      <th>CR_to_clients</th>\n",
       "      <th>mean_revenue</th>\n",
       "      <th>repeat_purchases</th>\n",
       "      <th>arppu</th>\n",
       "      <th>arpu</th>\n",
       "    </tr>\n",
       "  </thead>\n",
       "  <tbody>\n",
       "    <tr>\n",
       "      <th>0</th>\n",
       "      <td>A</td>\n",
       "      <td>0.007282</td>\n",
       "      <td>860.710280</td>\n",
       "      <td>1.0</td>\n",
       "      <td>860.710280</td>\n",
       "      <td>6.268019</td>\n",
       "    </tr>\n",
       "    <tr>\n",
       "      <th>1</th>\n",
       "      <td>B</td>\n",
       "      <td>0.007247</td>\n",
       "      <td>1108.824893</td>\n",
       "      <td>1.0</td>\n",
       "      <td>1108.824893</td>\n",
       "      <td>8.036171</td>\n",
       "    </tr>\n",
       "  </tbody>\n",
       "</table>\n",
       "</div>"
      ],
      "text/plain": [
       "  grp  CR_to_clients  mean_revenue  repeat_purchases        arppu      arpu\n",
       "0   A       0.007282    860.710280               1.0   860.710280  6.268019\n",
       "1   B       0.007247   1108.824893               1.0  1108.824893  8.036171"
      ]
     },
     "execution_count": 18,
     "metadata": {},
     "output_type": "execute_result"
    }
   ],
   "source": [
    "b['metrics']"
   ]
  },
  {
   "cell_type": "code",
   "execution_count": 19,
   "id": "0bb6d3b7",
   "metadata": {},
   "outputs": [
    {
     "data": {
      "text/html": [
       "<div>\n",
       "<style scoped>\n",
       "    .dataframe tbody tr th:only-of-type {\n",
       "        vertical-align: middle;\n",
       "    }\n",
       "\n",
       "    .dataframe tbody tr th {\n",
       "        vertical-align: top;\n",
       "    }\n",
       "\n",
       "    .dataframe thead th {\n",
       "        text-align: right;\n",
       "    }\n",
       "</style>\n",
       "<table border=\"1\" class=\"dataframe\">\n",
       "  <thead>\n",
       "    <tr style=\"text-align: right;\">\n",
       "      <th></th>\n",
       "      <th>id</th>\n",
       "      <th>grp</th>\n",
       "      <th>added_later</th>\n",
       "      <th>active_studs</th>\n",
       "      <th>rev</th>\n",
       "    </tr>\n",
       "  </thead>\n",
       "  <tbody>\n",
       "    <tr>\n",
       "      <th>0</th>\n",
       "      <td>1489</td>\n",
       "      <td>B</td>\n",
       "      <td>False</td>\n",
       "      <td>False</td>\n",
       "      <td>NaN</td>\n",
       "    </tr>\n",
       "    <tr>\n",
       "      <th>1</th>\n",
       "      <td>1627</td>\n",
       "      <td>A</td>\n",
       "      <td>False</td>\n",
       "      <td>True</td>\n",
       "      <td>990.0</td>\n",
       "    </tr>\n",
       "    <tr>\n",
       "      <th>2</th>\n",
       "      <td>1768</td>\n",
       "      <td>B</td>\n",
       "      <td>False</td>\n",
       "      <td>False</td>\n",
       "      <td>NaN</td>\n",
       "    </tr>\n",
       "    <tr>\n",
       "      <th>3</th>\n",
       "      <td>1783</td>\n",
       "      <td>B</td>\n",
       "      <td>False</td>\n",
       "      <td>False</td>\n",
       "      <td>NaN</td>\n",
       "    </tr>\n",
       "    <tr>\n",
       "      <th>4</th>\n",
       "      <td>1794</td>\n",
       "      <td>A</td>\n",
       "      <td>False</td>\n",
       "      <td>False</td>\n",
       "      <td>NaN</td>\n",
       "    </tr>\n",
       "    <tr>\n",
       "      <th>...</th>\n",
       "      <td>...</td>\n",
       "      <td>...</td>\n",
       "      <td>...</td>\n",
       "      <td>...</td>\n",
       "      <td>...</td>\n",
       "    </tr>\n",
       "    <tr>\n",
       "      <th>74571</th>\n",
       "      <td>200247820</td>\n",
       "      <td>B</td>\n",
       "      <td>True</td>\n",
       "      <td>False</td>\n",
       "      <td>NaN</td>\n",
       "    </tr>\n",
       "    <tr>\n",
       "      <th>74572</th>\n",
       "      <td>201032527</td>\n",
       "      <td>B</td>\n",
       "      <td>True</td>\n",
       "      <td>False</td>\n",
       "      <td>NaN</td>\n",
       "    </tr>\n",
       "    <tr>\n",
       "      <th>74573</th>\n",
       "      <td>201067612</td>\n",
       "      <td>B</td>\n",
       "      <td>True</td>\n",
       "      <td>False</td>\n",
       "      <td>NaN</td>\n",
       "    </tr>\n",
       "    <tr>\n",
       "      <th>74574</th>\n",
       "      <td>201067653</td>\n",
       "      <td>B</td>\n",
       "      <td>True</td>\n",
       "      <td>False</td>\n",
       "      <td>NaN</td>\n",
       "    </tr>\n",
       "    <tr>\n",
       "      <th>74575</th>\n",
       "      <td>201067659</td>\n",
       "      <td>B</td>\n",
       "      <td>True</td>\n",
       "      <td>False</td>\n",
       "      <td>NaN</td>\n",
       "    </tr>\n",
       "  </tbody>\n",
       "</table>\n",
       "<p>74576 rows × 5 columns</p>\n",
       "</div>"
      ],
      "text/plain": [
       "              id grp  added_later  active_studs    rev\n",
       "0           1489   B        False         False    NaN\n",
       "1           1627   A        False          True  990.0\n",
       "2           1768   B        False         False    NaN\n",
       "3           1783   B        False         False    NaN\n",
       "4           1794   A        False         False    NaN\n",
       "...          ...  ..          ...           ...    ...\n",
       "74571  200247820   B         True         False    NaN\n",
       "74572  201032527   B         True         False    NaN\n",
       "74573  201067612   B         True         False    NaN\n",
       "74574  201067653   B         True         False    NaN\n",
       "74575  201067659   B         True         False    NaN\n",
       "\n",
       "[74576 rows x 5 columns]"
      ]
     },
     "execution_count": 19,
     "metadata": {},
     "output_type": "execute_result"
    }
   ],
   "source": [
    "b['data_frame']"
   ]
  },
  {
   "cell_type": "markdown",
   "id": "27679c9c",
   "metadata": {},
   "source": [
    "Реализуем функцию, которая будет строить графики по получаемым метрикам."
   ]
  },
  {
   "cell_type": "code",
   "execution_count": 20,
   "id": "3df23e5b",
   "metadata": {},
   "outputs": [],
   "source": [
    "def visualization(df):\n",
    "    fig, axs = plt.subplots(2, 2, figsize=(20, 10))\n",
    "    fig.tight_layout(h_pad=5)\n",
    "    sns.barplot(y='CR_to_clients', x=\"grp\", data=df, ax=axs[0, 0]).set_title('CR_to_clients')\n",
    "    sns.barplot(y='mean_revenue', x=\"grp\", data=df, ax=axs[0, 1]).set_title('Mean_Revenue')\n",
    "    sns.barplot(y='arppu', x=\"grp\", data=df, ax=axs[1, 0]).set_title('ARPPU')\n",
    "    sns.barplot(y='arpu', x=\"grp\", data=df, ax=axs[1, 1]).set_title('ARPU')\n",
    "    \n",
    "    plt.show()"
   ]
  },
  {
   "cell_type": "code",
   "execution_count": 21,
   "id": "e4b29c91",
   "metadata": {},
   "outputs": [
    {
     "data": {
      "image/png": "[encoded data removed]",
      "text/plain": [
       "<Figure size 2000x1000 with 4 Axes>"
      ]
     },
     "metadata": {},
     "output_type": "display_data"
    }
   ],
   "source": [
    "visualization(b['metrics'])"
   ]
  }
 ],
 "metadata": {
  "kernelspec": {
   "display_name": "Python 3 (ipykernel)",
   "language": "python",
   "name": "python3"
  },
  "language_info": {
   "codemirror_mode": {
    "name": "ipython",
    "version": 3
   },
   "file_extension": ".py",
   "mimetype": "text/x-python",
   "name": "python",
   "nbconvert_exporter": "python",
   "pygments_lexer": "ipython3",
   "version": "3.9.13"
  }
 },
 "nbformat": 4,
 "nbformat_minor": 5
}
